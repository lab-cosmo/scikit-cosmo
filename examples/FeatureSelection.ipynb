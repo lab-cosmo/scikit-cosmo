{
 "cells": [
  {
   "cell_type": "markdown",
   "metadata": {},
   "source": [
    "PCovR-Inspired Feature Selection \n",
    "=============================="
   ]
  },
  {
   "cell_type": "code",
   "execution_count": null,
   "metadata": {},
   "outputs": [],
   "source": [
    "from sklearn.datasets import load_boston\n",
    "from sklearn.linear_model import Ridge as LR\n",
    "\n",
    "from matplotlib import pyplot as plt\n",
    "from matplotlib import cm\n",
    "\n",
    "from tqdm.notebook import tqdm\n",
    "\n",
    "import numpy as np\n",
    "\n",
    "from skcosmo.feature_selection import PCovCUR, PCovFPS\n",
    "\n",
    "cmap = cm.brg"
   ]
  },
  {
   "cell_type": "markdown",
   "metadata": {},
   "source": [
    "For this, we will use the boston housing data provided by scikit-learn."
   ]
  },
  {
   "cell_type": "code",
   "execution_count": null,
   "metadata": {},
   "outputs": [],
   "source": [
    "X, y = load_boston(return_X_y=True)\n",
    "y = y.reshape(X.shape[0], -1)"
   ]
  },
  {
   "cell_type": "markdown",
   "metadata": {},
   "source": [
    "## Feature Selection with CUR + PCovR\n",
    "First, let's demonstrate CUR feature selection, and show the ten features chosen with a mixing parameter of 0.0, 0.5, and 1.0 perform."
   ]
  },
  {
   "cell_type": "code",
   "execution_count": null,
   "metadata": {},
   "outputs": [],
   "source": [
    "n = 10\n",
    "lr = LR()\n",
    "\n",
    "for m in np.arange(0, 1.0, 0.2, dtype=np.float32):\n",
    "\n",
    "    idx = PCovCUR(mixing=m, n_to_select=n).fit(X, y).selected_idx_\n",
    "\n",
    "    plt.semilogy(\n",
    "        range(1, n + 1),\n",
    "        np.array(\n",
    "            [\n",
    "                lr.fit(X[:, idx[: ni + 1]], y).score(X[:, idx[: ni + 1]], y)\n",
    "                for ni in range(n)\n",
    "            ]\n",
    "        ),\n",
    "        label=m,\n",
    "        c=cmap(m),\n",
    "        marker=\"o\",\n",
    "    )\n",
    "\n",
    "plt.xlabel(\"Number of Features Selected\")\n",
    "plt.ylabel(r\"$R^2$\")\n",
    "plt.legend(title=\"Mixing \\nParameter\")\n",
    "plt.show()"
   ]
  },
  {
   "cell_type": "markdown",
   "metadata": {},
   "source": [
    "### Non-iterative feature selection with CUR + PCovR\n",
    "Computing a non-iterative CUR is more efficient, although can result in poorer performance for larger datasets. you can also use a greater number of eigenvectors to compute the feature importance by varying `k`, but `k` should not exceed the number of targets, for optimal results."
   ]
  },
  {
   "cell_type": "code",
   "execution_count": null,
   "metadata": {},
   "outputs": [],
   "source": [
    "n = 10\n",
    "lr = LR()\n",
    "m = 0.0\n",
    "\n",
    "\n",
    "idx = PCovCUR(mixing=m, n_to_select=n).fit(X, y).selected_idx_\n",
    "idx_non_it = PCovCUR(mixing=m, iterative=False, n_to_select=n).fit(X, y).selected_idx_\n",
    "\n",
    "plt.loglog(\n",
    "    range(1, n + 1),\n",
    "    np.array(\n",
    "        [\n",
    "            lr.fit(X[:, idx[: ni + 1]], y).score(X[:, idx[: ni + 1]], y)\n",
    "            for ni in range(n)\n",
    "        ]\n",
    "    ),\n",
    "    label='Iterative',\n",
    "    marker=\"o\",\n",
    ")\n",
    "plt.loglog(\n",
    "    range(1, n + 1),\n",
    "    np.array(\n",
    "        [\n",
    "            lr.fit(X[:, idx_non_it[: ni + 1]], y).score(X[:, idx_non_it[: ni + 1]], y)\n",
    "            for ni in range(n)\n",
    "        ]\n",
    "    ),\n",
    "    label='Non-Iterative',\n",
    "    marker=\"s\",\n",
    ")\n",
    "\n",
    "plt.xlabel(\"Number of Features Selected\")\n",
    "plt.ylabel(r\"$R^2$\")\n",
    "plt.legend()\n",
    "plt.show()"
   ]
  },
  {
   "cell_type": "markdown",
   "metadata": {},
   "source": [
    "## Feature Selection with FPS + PCovR\n",
    "Next, let's look at FPS. We'll choose the first index from CUR at m = 1, which is 9."
   ]
  },
  {
   "cell_type": "code",
   "execution_count": null,
   "metadata": {},
   "outputs": [],
   "source": [
    "n = 10\n",
    "lr = LR()\n",
    "\n",
    "for m in np.arange(0, 1.0, 0.2, dtype=np.float32):\n",
    "\n",
    "    idx = (\n",
    "        PCovFPS(mixing=m, initialize=9, n_to_select=n).fit(X, y).selected_idx_\n",
    "    )\n",
    "\n",
    "    plt.semilogy(\n",
    "        range(1, n + 1),\n",
    "        np.array(\n",
    "            [\n",
    "                lr.fit(X[:, idx[: ni + 1]], y).score(X[:, idx[: ni + 1]], y)\n",
    "                for ni in range(n)\n",
    "            ]\n",
    "        ),\n",
    "        label=m,\n",
    "        c=cmap(m),\n",
    "        marker=\"o\",\n",
    "    )\n",
    "\n",
    "plt.xlabel(\"Number of Features Selected\")\n",
    "plt.ylabel(r\"$R^2$\")\n",
    "plt.legend(title=\"Mixing \\nParameter\")\n",
    "plt.show()"
   ]
  }
 ],
 "metadata": {
  "kernelspec": {
   "display_name": "Python 3",
   "language": "python",
   "name": "python3"
  },
  "language_info": {
   "codemirror_mode": {
    "name": "ipython",
    "version": 3
   },
   "file_extension": ".py",
   "mimetype": "text/x-python",
   "name": "python",
   "nbconvert_exporter": "python",
   "pygments_lexer": "ipython3",
   "version": "3.6.11"
  },
  "toc": {
   "base_numbering": 1,
   "nav_menu": {},
   "number_sections": true,
   "sideBar": true,
   "skip_h1_title": false,
   "title_cell": "Table of Contents",
   "title_sidebar": "Contents",
   "toc_cell": false,
   "toc_position": {},
   "toc_section_display": true,
   "toc_window_display": false
  }
 },
 "nbformat": 4,
 "nbformat_minor": 4
}
