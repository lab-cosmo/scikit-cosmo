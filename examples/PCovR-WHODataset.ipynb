{
 "cells": [
  {
   "cell_type": "markdown",
   "id": "57c73a94",
   "metadata": {},
   "source": [
    "# The Benefits of Kernel PCovR for the WHO Dataset"
   ]
  },
  {
   "cell_type": "code",
   "execution_count": null,
   "id": "c6857fae",
   "metadata": {},
   "outputs": [],
   "source": [
    "import pandas as pd\n",
    "from matplotlib import pyplot as plt\n",
    "import numpy as np\n",
    "from sklearn.linear_model import Ridge, RidgeCV\n",
    "from sklearn.kernel_ridge import KernelRidge\n",
    "from sklearn.model_selection import train_test_split\n",
    "from sklearn.decomposition import PCA, KernelPCA\n",
    "from sklearn.model_selection import GridSearchCV\n",
    "from sklearn.metrics import r2_score\n",
    "\n",
    "from skcosmo.preprocessing import StandardFlexibleScaler\n",
    "from skcosmo.decomposition import PCovR, KernelPCovR\n",
    "from skcosmo.datasets import load_who_dataset\n",
    "\n",
    "from scipy.stats import pearsonr"
   ]
  },
  {
   "cell_type": "markdown",
   "id": "2a562ba7",
   "metadata": {},
   "source": [
    "## Load the Dataset"
   ]
  },
  {
   "cell_type": "code",
   "execution_count": null,
   "id": "b816f2fb",
   "metadata": {},
   "outputs": [],
   "source": [
    "df = load_who_dataset()['data']\n",
    "df"
   ]
  },
  {
   "cell_type": "code",
   "execution_count": null,
   "id": "472af9a2",
   "metadata": {
    "code_folding": [
     0
    ]
   },
   "outputs": [],
   "source": [
    "columns = [\n",
    "    \"SP.POP.TOTL\",\n",
    "    \"SH.TBS.INCD\",\n",
    "    \"SH.IMM.MEAS\",\n",
    "    \"SE.XPD.TOTL.GD.ZS\",\n",
    "    \"SH.DYN.AIDS.ZS\",\n",
    "    \"SH.IMM.IDPT\",\n",
    "    \"SH.XPD.CHEX.GD.ZS\",\n",
    "    \"SN.ITK.DEFC.ZS\",\n",
    "    \"NY.GDP.PCAP.CD\",\n",
    "]\n",
    "\n",
    "X_raw = np.array(df[columns])\n",
    "\n",
    "# We are taking the logarithm of the population  and GDP to avoid extreme distributions\n",
    "log_scaled = [\"SP.POP.TOTL\", \"NY.GDP.PCAP.CD\"]\n",
    "for ls in log_scaled:\n",
    "    print(X_raw[:, columns.index(ls)].min(), X_raw[:, columns.index(ls)].max())\n",
    "    if ls in columns:\n",
    "        X_raw[:, columns.index(ls)] = np.log10(X_raw[:, columns.index(ls)])\n",
    "y_raw = np.array(df[\"SP.DYN.LE00.IN\"])  # [np.where(df['Year']==2000)[0]])\n",
    "y_raw = y_raw.reshape(-1, 1)\n",
    "X_raw.shape"
   ]
  },
  {
   "cell_type": "markdown",
   "id": "4650e930",
   "metadata": {},
   "source": [
    "### Scale and Center the Features and Targets"
   ]
  },
  {
   "cell_type": "code",
   "execution_count": null,
   "id": "ffe8f0ea",
   "metadata": {},
   "outputs": [],
   "source": [
    "x_scaler = StandardFlexibleScaler(column_wise=True)\n",
    "X = x_scaler.fit_transform(X_raw)\n",
    "\n",
    "y_scaler = StandardFlexibleScaler(column_wise=True)\n",
    "y = y_scaler.fit_transform(y_raw)\n",
    "\n",
    "n_components = 2\n",
    "\n",
    "X_train, X_test, y_train, y_test = train_test_split(X, y, test_size=0.3, shuffle=True, random_state=0)"
   ]
  },
  {
   "cell_type": "markdown",
   "id": "05723f1b",
   "metadata": {},
   "source": [
    "## Train the Different Linear DR Techniques"
   ]
  },
  {
   "cell_type": "code",
   "execution_count": null,
   "id": "5b32acf3",
   "metadata": {},
   "outputs": [],
   "source": [
    "# Best Error for Linear Regression\n",
    "RidgeCV(cv=5, alphas=np.logspace(-8,2, 20), fit_intercept=False).fit(X_train, y_train).score(X_test, y_test)"
   ]
  },
  {
   "cell_type": "markdown",
   "id": "4275cc10",
   "metadata": {},
   "source": [
    "### PCovR"
   ]
  },
  {
   "cell_type": "code",
   "execution_count": null,
   "id": "17eb69d7",
   "metadata": {},
   "outputs": [],
   "source": [
    "pcovr = PCovR(n_components=n_components, regressor=Ridge(alpha=1e-4, fit_intercept=False), mixing=0.5, random_state=0).fit(X_train, y_train)\n",
    "T_train_pcovr = pcovr.transform(X_train)\n",
    "T_test_pcovr = pcovr.transform(X_test)\n",
    "T_pcovr = pcovr.transform(X)\n",
    "\n",
    "r_pcovr = Ridge(alpha=1e-4, fit_intercept=False, random_state=0).fit(T_train_pcovr, y_train)\n",
    "yp_pcovr = r_pcovr.predict(T_test_pcovr)\n",
    "\n",
    "plt.scatter(y_scaler.inverse_transform(y_test), y_scaler.inverse_transform(yp_pcovr))\n",
    "r_pcovr.score(T_test_pcovr, y_test)"
   ]
  },
  {
   "cell_type": "markdown",
   "id": "3a49e59a",
   "metadata": {},
   "source": [
    "### PCA"
   ]
  },
  {
   "cell_type": "code",
   "execution_count": null,
   "id": "40469566",
   "metadata": {
    "scrolled": false
   },
   "outputs": [],
   "source": [
    "pca = PCA(\n",
    "    n_components=n_components, random_state=0,\n",
    ").fit(X_train, y_train)\n",
    "T_train_pca = pca.transform(X_train)\n",
    "T_test_pca = pca.transform(X_test)\n",
    "T_pca = pca.transform(X)\n",
    "\n",
    "r_pca = Ridge(alpha=1e-4, fit_intercept=False, random_state=0).fit(T_train_pca, y_train)\n",
    "yp_pca = r_pca.predict(T_test_pca)\n",
    "\n",
    "plt.scatter(y_scaler.inverse_transform(y_test), y_scaler.inverse_transform(yp_pca))\n",
    "r_pca.score(T_test_pca, y_test)"
   ]
  },
  {
   "cell_type": "code",
   "execution_count": null,
   "id": "b370c475",
   "metadata": {},
   "outputs": [],
   "source": [
    "for c, x in zip(columns, X.T):\n",
    "    print(c, pearsonr(x, T_pca[:,0])[0], pearsonr(x, T_pca[:,1])[0])"
   ]
  },
  {
   "cell_type": "markdown",
   "id": "9d473c21",
   "metadata": {},
   "source": [
    "## Train the Different Kernel DR Techniques"
   ]
  },
  {
   "cell_type": "markdown",
   "id": "a400c580",
   "metadata": {},
   "source": [
    "### Select Kernel Hyperparameters"
   ]
  },
  {
   "cell_type": "code",
   "execution_count": null,
   "id": "ef80f649",
   "metadata": {},
   "outputs": [],
   "source": [
    "param_grid = {\"gamma\": np.logspace(-8, 3, 20), \"alpha\": np.logspace(-8, 3, 20)}\n",
    "clf = KernelRidge(kernel='rbf')\n",
    "\n",
    "gs = GridSearchCV(estimator=clf, param_grid=param_grid)\n",
    "gs.fit(X_train, y_train)\n",
    "gs.best_estimator_"
   ]
  },
  {
   "cell_type": "code",
   "execution_count": null,
   "id": "e4c934cb",
   "metadata": {},
   "outputs": [],
   "source": [
    "# Best Error for Kernel Regression\n",
    "gs.best_score_"
   ]
  },
  {
   "cell_type": "code",
   "execution_count": null,
   "id": "590cead2",
   "metadata": {},
   "outputs": [],
   "source": [
    "kernel_params = {\"kernel\": \"rbf\", \"gamma\": gs.best_estimator_.gamma}"
   ]
  },
  {
   "cell_type": "markdown",
   "id": "4cb298d9",
   "metadata": {},
   "source": [
    "### KPCovR"
   ]
  },
  {
   "cell_type": "code",
   "execution_count": null,
   "id": "97590c0c",
   "metadata": {},
   "outputs": [],
   "source": [
    "kpcovr = KernelPCovR(\n",
    "    n_components=n_components,\n",
    "    regressor=KernelRidge(alpha=gs.best_estimator_.alpha, **kernel_params),\n",
    "    mixing=0.5,\n",
    "    **kernel_params,\n",
    ").fit(X_train, y_train)\n",
    "\n",
    "T_train_kpcovr = kpcovr.transform(X_train)\n",
    "T_test_kpcovr = kpcovr.transform(X_test)\n",
    "T_kpcovr = kpcovr.transform(X)\n",
    "\n",
    "r_kpcovr = KernelRidge(**kernel_params).fit(T_train_kpcovr, y_train)\n",
    "yp_kpcovr = r_kpcovr.predict(T_test_kpcovr)\n",
    "\n",
    "plt.scatter(y_scaler.inverse_transform(y_test), y_scaler.inverse_transform(yp_kpcovr))\n",
    "r_kpcovr.score(T_test_kpcovr, y_test)"
   ]
  },
  {
   "cell_type": "markdown",
   "id": "86e32f6f",
   "metadata": {},
   "source": [
    "### KPCA"
   ]
  },
  {
   "cell_type": "code",
   "execution_count": null,
   "id": "3217f641",
   "metadata": {},
   "outputs": [],
   "source": [
    "kpca = KernelPCA(\n",
    "    n_components=n_components,\n",
    "    **kernel_params,\n",
    "    random_state=0\n",
    ").fit(X_train, y_train)\n",
    "\n",
    "T_train_kpca = kpca.transform(X_train)\n",
    "T_test_kpca = kpca.transform(X_test)\n",
    "T_kpca = kpca.transform(X)\n",
    "\n",
    "r_kpca = KernelRidge(**kernel_params).fit(T_train_kpca, y_train)\n",
    "yp_kpca = r_kpca.predict(T_test_kpca)\n",
    "\n",
    "plt.scatter(y_scaler.inverse_transform(y_test), y_scaler.inverse_transform(yp_kpca))\n",
    "r_kpca.score(T_test_kpca, y_test)"
   ]
  },
  {
   "cell_type": "markdown",
   "id": "c5e63934",
   "metadata": {},
   "source": [
    "### Correlation of the different variables with the KPCovR axes"
   ]
  },
  {
   "cell_type": "code",
   "execution_count": null,
   "id": "5256fb4a",
   "metadata": {},
   "outputs": [],
   "source": [
    "for c, x in zip(columns, X.T):\n",
    "    print(c, pearsonr(x, T_kpcovr[:,0])[0], pearsonr(x, T_kpcovr[:,1])[0])"
   ]
  },
  {
   "cell_type": "markdown",
   "id": "6320ce86",
   "metadata": {},
   "source": [
    "## Plot Our Results"
   ]
  },
  {
   "cell_type": "code",
   "execution_count": null,
   "id": "206e0450",
   "metadata": {
    "code_folding": []
   },
   "outputs": [],
   "source": [
    "fig, axes = plt.subplot_mosaic(\n",
    "    \"\"\"\n",
    "                                AFF.B\n",
    "                                A.GGB\n",
    "                                .....\n",
    "                                CHH.D\n",
    "                                C.IID\n",
    "                                .....\n",
    "                                EEEEE\n",
    "                                \"\"\",\n",
    "    figsize=(7.5, 7.5),\n",
    "    gridspec_kw=dict(\n",
    "        height_ratios=(0.5, 0.5, 0.1, 0.5, 0.5, 0.1, 0.1),\n",
    "        width_ratios=(1, 0.1, 0.2, 0.1, 1)\n",
    "    ),\n",
    ")\n",
    "axPCA, axPCovR, axKPCA, axKPCovR = axes[\"A\"], axes[\"B\"], axes[\"C\"], axes[\"D\"]\n",
    "axPCAy, axPCovRy, axKPCAy, axKPCovRy = axes[\"F\"], axes[\"G\"], axes[\"H\"], axes[\"I\"]\n",
    "\n",
    "def add_subplot(ax, axy, T, yp, let=''):\n",
    "    p = ax.scatter(-T[:, 0], T[:, 1], c=y_raw, s=4)\n",
    "    ax.set_xticks([])\n",
    "    ax.set_yticks([])\n",
    "    ax.annotate(\n",
    "        xy=(0.025, 0.95),\n",
    "        xycoords=\"axes fraction\",\n",
    "        text=f\"({let})\",\n",
    "        va='top',\n",
    "        ha='left'\n",
    "    )\n",
    "    axy.scatter(\n",
    "        y_scaler.inverse_transform(y_test),\n",
    "        y_scaler.inverse_transform(yp),\n",
    "        c=\"k\",\n",
    "        s=1,\n",
    "    )\n",
    "    axy.plot([y_raw.min(), y_raw.max()], [y_raw.min(), y_raw.max()], \"r--\")\n",
    "    axy.annotate(\n",
    "        xy=(0.05, 0.95),\n",
    "        xycoords=\"axes fraction\",\n",
    "        text=r\"R$^2$=%0.2f\" % round(r2_score(y_test, yp), 3),\n",
    "        va='top',\n",
    "        ha='left',\n",
    "        fontsize=8,\n",
    "    )\n",
    "    axy.set_xticks([])\n",
    "    axy.set_yticks([])\n",
    "    return p\n",
    "\n",
    "\n",
    "p = add_subplot(axPCA, axPCAy, T_pca, yp_pca, 'a')\n",
    "axPCA.set_xlabel(\"PC$_1$\")\n",
    "axPCA.set_ylabel(\"PC$_2$\")\n",
    "\n",
    "add_subplot(axPCovR, axPCovRy, T_pcovr @ np.diag([-1,1]), yp_pcovr, 'b')\n",
    "axPCovR.yaxis.set_label_position(\"right\")\n",
    "axPCovR.set_xlabel(\"PCov$_1$\")\n",
    "axPCovR.set_ylabel(\"PCov$_2$\", rotation=-90, va=\"bottom\")\n",
    "\n",
    "add_subplot(axKPCA, axKPCAy, T_kpca @ np.diag([-1,1]), yp_kpca, 'c')\n",
    "axKPCA.set_xlabel(\"Kernel PC$_1$\", fontsize=10)\n",
    "axKPCA.set_ylabel(\"Kernel PC$_2$\", fontsize=10)\n",
    "\n",
    "add_subplot(axKPCovR, axKPCovRy, T_kpcovr, yp_kpcovr, 'd')\n",
    "axKPCovR.yaxis.set_label_position(\"right\")\n",
    "axKPCovR.set_xlabel(\"Kernel PCov$_1$\", fontsize=10)\n",
    "axKPCovR.set_ylabel(\"Kernel PCov$_2$\", rotation=-90, va=\"bottom\", fontsize=10)\n",
    "\n",
    "plt.colorbar(\n",
    "    p, cax=axes[\"E\"], label=\"Life Expectancy [years]\", orientation=\"horizontal\"\n",
    ")\n",
    "fig.subplots_adjust(wspace=0, hspace=0.4)\n",
    "fig.suptitle(\"Linear and Kernel PCovR for Predicting Life Expectancy\", y=0.925, fontsize=10)\n",
    "plt.show()"
   ]
  },
  {
   "cell_type": "code",
   "execution_count": null,
   "id": "a3ce12d4",
   "metadata": {},
   "outputs": [],
   "source": []
  }
 ],
 "metadata": {
  "kernelspec": {
   "display_name": "Python 3 (ipykernel)",
   "language": "python",
   "name": "python3"
  },
  "language_info": {
   "codemirror_mode": {
    "name": "ipython",
    "version": 3
   },
   "file_extension": ".py",
   "mimetype": "text/x-python",
   "name": "python",
   "nbconvert_exporter": "python",
   "pygments_lexer": "ipython3",
   "version": "3.10.4"
  },
  "toc": {
   "base_numbering": 1,
   "nav_menu": {},
   "number_sections": true,
   "sideBar": true,
   "skip_h1_title": false,
   "title_cell": "Table of Contents",
   "title_sidebar": "Contents",
   "toc_cell": false,
   "toc_position": {},
   "toc_section_display": true,
   "toc_window_display": false
  }
 },
 "nbformat": 4,
 "nbformat_minor": 5
}
