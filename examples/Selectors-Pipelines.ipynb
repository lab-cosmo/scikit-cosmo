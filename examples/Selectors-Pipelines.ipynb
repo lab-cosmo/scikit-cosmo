{
 "cells": [
  {
   "cell_type": "markdown",
   "metadata": {
    "toc": true
   },
   "source": [
    "<h1>Table of Contents<span class=\"tocSkip\"></span></h1>\n",
    "<div class=\"toc\"><ul class=\"toc-item\"><li><span><a href=\"#Using-scikit-COSMO-Selectors-with-scikit-learn-Pipelines\" data-toc-modified-id=\"Using-scikit-COSMO-Selectors-with-scikit-learn-Pipelines-1\"><span class=\"toc-item-num\">1&nbsp;&nbsp;</span>Using scikit-COSMO Selectors with scikit-learn Pipelines</a></span><ul class=\"toc-item\"><li><span><a href=\"#Using-one-selector-in-a-pipeline\" data-toc-modified-id=\"Using-one-selector-in-a-pipeline-1.1\"><span class=\"toc-item-num\">1.1&nbsp;&nbsp;</span>Using one selector in a pipeline</a></span></li><li><span><a href=\"#Stacking-selectors-one-after-another\" data-toc-modified-id=\"Stacking-selectors-one-after-another-1.2\"><span class=\"toc-item-num\">1.2&nbsp;&nbsp;</span>Stacking selectors one after another</a></span></li></ul></li></ul></div>"
   ]
  },
  {
   "cell_type": "markdown",
   "metadata": {},
   "source": [
    "Using scikit-COSMO selectors with scikit-learn pipelines\n",
    "========================================================"
   ]
  },
  {
   "cell_type": "code",
   "execution_count": null,
   "metadata": {},
   "outputs": [],
   "source": [
    "import numpy as np\n",
    "from matplotlib import pyplot as plt\n",
    "\n",
    "from sklearn.pipeline import Pipeline\n",
    "from sklearn.linear_model import RidgeCV\n",
    "from sklearn.datasets import load_boston\n",
    "from sklearn.model_selection import train_test_split\n",
    "from sklearn.preprocessing import StandardScaler\n",
    "\n",
    "from skcosmo.feature_selection import FPS, CUR"
   ]
  },
  {
   "cell_type": "markdown",
   "metadata": {},
   "source": [
    "## Simple integration of scikit-COSMO selectors\n",
    "This example shows how to use FPS to subselect features before training a RidgeCV."
   ]
  },
  {
   "cell_type": "code",
   "execution_count": null,
   "metadata": {},
   "outputs": [],
   "source": [
    "scaler = StandardScaler()\n",
    "selector = FPS(n_to_select=6)\n",
    "ridge = RidgeCV(cv=2, alphas=np.logspace(-8, 2, 10))\n",
    "\n",
    "X, y = load_boston(return_X_y=True)\n",
    "\n",
    "X_train, X_test, y_train, y_test = train_test_split(X, y, random_state=0)\n",
    "\n",
    "pipe = Pipeline([(\"scaler\", scaler), (\"selector\", selector), (\"ridge\", ridge)])\n",
    "pipe.fit(X_train.copy(), y_train.copy())\n",
    "\n",
    "plt.scatter(y_test, pipe.predict(X_test))\n",
    "plt.gca().set_aspect(\"equal\")\n",
    "plt.plot(plt.xlim(), plt.xlim(), \"r--\")\n",
    "plt.xlabel('True Values')\n",
    "plt.ylabel('Predicted Values')\n",
    "plt.show()"
   ]
  },
  {
   "cell_type": "markdown",
   "metadata": {},
   "source": [
    "## Stacking selectors one after another\n",
    "\n",
    "This example shows how to use an FPS, then CUR selector\n",
    "to subselect features before training a RidgeCV."
   ]
  },
  {
   "cell_type": "code",
   "execution_count": null,
   "metadata": {},
   "outputs": [],
   "source": [
    "scaler = StandardScaler()\n",
    "fps = FPS(n_to_select=10)\n",
    "cur = CUR(n_to_select=4)\n",
    "ridge = RidgeCV(cv=2, alphas=np.logspace(-8, 2, 10))\n",
    "\n",
    "X, y = load_boston(return_X_y=True)\n",
    "\n",
    "X_train, X_test, y_train, y_test = train_test_split(X, y, random_state=0)\n",
    "\n",
    "pipe = Pipeline(\n",
    "    [(\"scaler\", scaler), (\"selector1\", fps), (\"selector2\", cur), (\"ridge\", ridge)]\n",
    ")\n",
    "pipe.fit(X_train.copy(), y_train.copy())\n",
    "\n",
    "plt.scatter(y_test, pipe.predict(X_test))\n",
    "plt.gca().set_aspect(\"equal\")\n",
    "plt.plot(plt.xlim(), plt.xlim(), \"r--\")\n",
    "plt.xlabel('True Values')\n",
    "plt.ylabel('Predicted Values')\n",
    "plt.show()"
   ]
  }
 ],
 "metadata": {
  "kernelspec": {
   "display_name": "Python 3",
   "language": "python",
   "name": "python3"
  },
  "language_info": {
   "codemirror_mode": {
    "name": "ipython",
    "version": 3
   },
   "file_extension": ".py",
   "mimetype": "text/x-python",
   "name": "python",
   "nbconvert_exporter": "python",
   "pygments_lexer": "ipython3",
   "version": "3.6.11"
  },
  "toc": {
   "base_numbering": 1,
   "nav_menu": {},
   "number_sections": true,
   "sideBar": true,
   "skip_h1_title": false,
   "title_cell": "Table of Contents",
   "title_sidebar": "Contents",
   "toc_cell": true,
   "toc_position": {},
   "toc_section_display": true,
   "toc_window_display": false
  }
 },
 "nbformat": 4,
 "nbformat_minor": 4
}
